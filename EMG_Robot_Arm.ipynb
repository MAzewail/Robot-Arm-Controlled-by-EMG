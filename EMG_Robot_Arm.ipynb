{
  "nbformat": 4,
  "nbformat_minor": 0,
  "metadata": {
    "colab": {
      "provenance": [],
      "authorship_tag": "ABX9TyNdwb0LZ26mw0U6SP6CbkWi",
      "include_colab_link": true
    },
    "kernelspec": {
      "name": "python3",
      "display_name": "Python 3"
    },
    "language_info": {
      "name": "python"
    }
  },
  "cells": [
    {
      "cell_type": "markdown",
      "metadata": {
        "id": "view-in-github",
        "colab_type": "text"
      },
      "source": [
        "<a href=\"https://colab.research.google.com/github/MAzewail/Robot-Arm-Controlled-by-EMG/blob/main/EMG_Robot_Arm.ipynb\" target=\"_parent\"><img src=\"https://colab.research.google.com/assets/colab-badge.svg\" alt=\"Open In Colab\"/></a>"
      ]
    },
    {
      "cell_type": "code",
      "execution_count": null,
      "metadata": {
        "id": "kTaMePd6luyV"
      },
      "outputs": [],
      "source": [
        "import pandas as pd\n",
        "import numpy as np\n",
        "import matplotlib.pyplot as plt\n",
        "#import sklearn"
      ]
    },
    {
      "cell_type": "code",
      "source": [
        "from sklearn.datasets import make_classification\n",
        "from sklearn.linear_model import LogisticRegression\n",
        "from sklearn.model_selection import train_test_split\n",
        "from sklearn.pipeline import make_pipeline\n",
        "from sklearn.preprocessing import StandardScaler"
      ],
      "metadata": {
        "id": "rkwTD4tQupEp"
      },
      "execution_count": null,
      "outputs": []
    },
    {
      "cell_type": "code",
      "source": [
        "from sklearn import svm"
      ],
      "metadata": {
        "id": "sDmPu0pPxQcz"
      },
      "execution_count": null,
      "outputs": []
    },
    {
      "cell_type": "code",
      "source": [
        "clf = svm.SVC()"
      ],
      "metadata": {
        "id": "Njudu2N5xtdz"
      },
      "execution_count": null,
      "outputs": []
    },
    {
      "cell_type": "code",
      "source": [
        "df = pd.read_csv('EMG.csv')"
      ],
      "metadata": {
        "id": "BuV4ROrfmImH"
      },
      "execution_count": null,
      "outputs": []
    },
    {
      "cell_type": "code",
      "source": [
        "#df.columns=['sensor','label']"
      ],
      "metadata": {
        "id": "QJwFCjKlmIjJ"
      },
      "execution_count": null,
      "outputs": []
    },
    {
      "cell_type": "code",
      "source": [
        "df"
      ],
      "metadata": {
        "colab": {
          "base_uri": "https://localhost:8080/",
          "height": 424
        },
        "id": "xhAW6UszmIev",
        "outputId": "27511770-96e8-4ea9-eb30-4e017f635621"
      },
      "execution_count": null,
      "outputs": [
        {
          "output_type": "execute_result",
          "data": {
            "text/plain": [
              "     sensor  label\n",
              "0       329      0\n",
              "1       329      0\n",
              "2       329      0\n",
              "3       329      0\n",
              "4       329      0\n",
              "..      ...    ...\n",
              "595     252      2\n",
              "596     162      2\n",
              "597     162      2\n",
              "598     162      2\n",
              "599     162      2\n",
              "\n",
              "[600 rows x 2 columns]"
            ],
            "text/html": [
              "\n",
              "  <div id=\"df-c47cfc7a-c894-4771-a8c2-e9bcf7789bb5\">\n",
              "    <div class=\"colab-df-container\">\n",
              "      <div>\n",
              "<style scoped>\n",
              "    .dataframe tbody tr th:only-of-type {\n",
              "        vertical-align: middle;\n",
              "    }\n",
              "\n",
              "    .dataframe tbody tr th {\n",
              "        vertical-align: top;\n",
              "    }\n",
              "\n",
              "    .dataframe thead th {\n",
              "        text-align: right;\n",
              "    }\n",
              "</style>\n",
              "<table border=\"1\" class=\"dataframe\">\n",
              "  <thead>\n",
              "    <tr style=\"text-align: right;\">\n",
              "      <th></th>\n",
              "      <th>sensor</th>\n",
              "      <th>label</th>\n",
              "    </tr>\n",
              "  </thead>\n",
              "  <tbody>\n",
              "    <tr>\n",
              "      <th>0</th>\n",
              "      <td>329</td>\n",
              "      <td>0</td>\n",
              "    </tr>\n",
              "    <tr>\n",
              "      <th>1</th>\n",
              "      <td>329</td>\n",
              "      <td>0</td>\n",
              "    </tr>\n",
              "    <tr>\n",
              "      <th>2</th>\n",
              "      <td>329</td>\n",
              "      <td>0</td>\n",
              "    </tr>\n",
              "    <tr>\n",
              "      <th>3</th>\n",
              "      <td>329</td>\n",
              "      <td>0</td>\n",
              "    </tr>\n",
              "    <tr>\n",
              "      <th>4</th>\n",
              "      <td>329</td>\n",
              "      <td>0</td>\n",
              "    </tr>\n",
              "    <tr>\n",
              "      <th>...</th>\n",
              "      <td>...</td>\n",
              "      <td>...</td>\n",
              "    </tr>\n",
              "    <tr>\n",
              "      <th>595</th>\n",
              "      <td>252</td>\n",
              "      <td>2</td>\n",
              "    </tr>\n",
              "    <tr>\n",
              "      <th>596</th>\n",
              "      <td>162</td>\n",
              "      <td>2</td>\n",
              "    </tr>\n",
              "    <tr>\n",
              "      <th>597</th>\n",
              "      <td>162</td>\n",
              "      <td>2</td>\n",
              "    </tr>\n",
              "    <tr>\n",
              "      <th>598</th>\n",
              "      <td>162</td>\n",
              "      <td>2</td>\n",
              "    </tr>\n",
              "    <tr>\n",
              "      <th>599</th>\n",
              "      <td>162</td>\n",
              "      <td>2</td>\n",
              "    </tr>\n",
              "  </tbody>\n",
              "</table>\n",
              "<p>600 rows × 2 columns</p>\n",
              "</div>\n",
              "      <button class=\"colab-df-convert\" onclick=\"convertToInteractive('df-c47cfc7a-c894-4771-a8c2-e9bcf7789bb5')\"\n",
              "              title=\"Convert this dataframe to an interactive table.\"\n",
              "              style=\"display:none;\">\n",
              "        \n",
              "  <svg xmlns=\"http://www.w3.org/2000/svg\" height=\"24px\"viewBox=\"0 0 24 24\"\n",
              "       width=\"24px\">\n",
              "    <path d=\"M0 0h24v24H0V0z\" fill=\"none\"/>\n",
              "    <path d=\"M18.56 5.44l.94 2.06.94-2.06 2.06-.94-2.06-.94-.94-2.06-.94 2.06-2.06.94zm-11 1L8.5 8.5l.94-2.06 2.06-.94-2.06-.94L8.5 2.5l-.94 2.06-2.06.94zm10 10l.94 2.06.94-2.06 2.06-.94-2.06-.94-.94-2.06-.94 2.06-2.06.94z\"/><path d=\"M17.41 7.96l-1.37-1.37c-.4-.4-.92-.59-1.43-.59-.52 0-1.04.2-1.43.59L10.3 9.45l-7.72 7.72c-.78.78-.78 2.05 0 2.83L4 21.41c.39.39.9.59 1.41.59.51 0 1.02-.2 1.41-.59l7.78-7.78 2.81-2.81c.8-.78.8-2.07 0-2.86zM5.41 20L4 18.59l7.72-7.72 1.47 1.35L5.41 20z\"/>\n",
              "  </svg>\n",
              "      </button>\n",
              "      \n",
              "  <style>\n",
              "    .colab-df-container {\n",
              "      display:flex;\n",
              "      flex-wrap:wrap;\n",
              "      gap: 12px;\n",
              "    }\n",
              "\n",
              "    .colab-df-convert {\n",
              "      background-color: #E8F0FE;\n",
              "      border: none;\n",
              "      border-radius: 50%;\n",
              "      cursor: pointer;\n",
              "      display: none;\n",
              "      fill: #1967D2;\n",
              "      height: 32px;\n",
              "      padding: 0 0 0 0;\n",
              "      width: 32px;\n",
              "    }\n",
              "\n",
              "    .colab-df-convert:hover {\n",
              "      background-color: #E2EBFA;\n",
              "      box-shadow: 0px 1px 2px rgba(60, 64, 67, 0.3), 0px 1px 3px 1px rgba(60, 64, 67, 0.15);\n",
              "      fill: #174EA6;\n",
              "    }\n",
              "\n",
              "    [theme=dark] .colab-df-convert {\n",
              "      background-color: #3B4455;\n",
              "      fill: #D2E3FC;\n",
              "    }\n",
              "\n",
              "    [theme=dark] .colab-df-convert:hover {\n",
              "      background-color: #434B5C;\n",
              "      box-shadow: 0px 1px 3px 1px rgba(0, 0, 0, 0.15);\n",
              "      filter: drop-shadow(0px 1px 2px rgba(0, 0, 0, 0.3));\n",
              "      fill: #FFFFFF;\n",
              "    }\n",
              "  </style>\n",
              "\n",
              "      <script>\n",
              "        const buttonEl =\n",
              "          document.querySelector('#df-c47cfc7a-c894-4771-a8c2-e9bcf7789bb5 button.colab-df-convert');\n",
              "        buttonEl.style.display =\n",
              "          google.colab.kernel.accessAllowed ? 'block' : 'none';\n",
              "\n",
              "        async function convertToInteractive(key) {\n",
              "          const element = document.querySelector('#df-c47cfc7a-c894-4771-a8c2-e9bcf7789bb5');\n",
              "          const dataTable =\n",
              "            await google.colab.kernel.invokeFunction('convertToInteractive',\n",
              "                                                     [key], {});\n",
              "          if (!dataTable) return;\n",
              "\n",
              "          const docLinkHtml = 'Like what you see? Visit the ' +\n",
              "            '<a target=\"_blank\" href=https://colab.research.google.com/notebooks/data_table.ipynb>data table notebook</a>'\n",
              "            + ' to learn more about interactive tables.';\n",
              "          element.innerHTML = '';\n",
              "          dataTable['output_type'] = 'display_data';\n",
              "          await google.colab.output.renderOutput(dataTable, element);\n",
              "          const docLink = document.createElement('div');\n",
              "          docLink.innerHTML = docLinkHtml;\n",
              "          element.appendChild(docLink);\n",
              "        }\n",
              "      </script>\n",
              "    </div>\n",
              "  </div>\n",
              "  "
            ]
          },
          "metadata": {},
          "execution_count": 8
        }
      ]
    },
    {
      "cell_type": "code",
      "source": [
        "df.describe()"
      ],
      "metadata": {
        "colab": {
          "base_uri": "https://localhost:8080/",
          "height": 300
        },
        "id": "q_omMNQ9mITI",
        "outputId": "67ff3009-f4d1-4b87-9cbe-59761e2e76cc"
      },
      "execution_count": null,
      "outputs": [
        {
          "output_type": "execute_result",
          "data": {
            "text/plain": [
              "           sensor       label\n",
              "count  600.000000  600.000000\n",
              "mean   184.380000    1.000000\n",
              "std    115.330876    0.817178\n",
              "min     20.000000    0.000000\n",
              "25%     57.000000    0.000000\n",
              "50%    213.000000    1.000000\n",
              "75%    286.000000    2.000000\n",
              "max    358.000000    2.000000"
            ],
            "text/html": [
              "\n",
              "  <div id=\"df-ad190ae0-0e8f-4bdd-b0d3-a5116ce393a9\">\n",
              "    <div class=\"colab-df-container\">\n",
              "      <div>\n",
              "<style scoped>\n",
              "    .dataframe tbody tr th:only-of-type {\n",
              "        vertical-align: middle;\n",
              "    }\n",
              "\n",
              "    .dataframe tbody tr th {\n",
              "        vertical-align: top;\n",
              "    }\n",
              "\n",
              "    .dataframe thead th {\n",
              "        text-align: right;\n",
              "    }\n",
              "</style>\n",
              "<table border=\"1\" class=\"dataframe\">\n",
              "  <thead>\n",
              "    <tr style=\"text-align: right;\">\n",
              "      <th></th>\n",
              "      <th>sensor</th>\n",
              "      <th>label</th>\n",
              "    </tr>\n",
              "  </thead>\n",
              "  <tbody>\n",
              "    <tr>\n",
              "      <th>count</th>\n",
              "      <td>600.000000</td>\n",
              "      <td>600.000000</td>\n",
              "    </tr>\n",
              "    <tr>\n",
              "      <th>mean</th>\n",
              "      <td>184.380000</td>\n",
              "      <td>1.000000</td>\n",
              "    </tr>\n",
              "    <tr>\n",
              "      <th>std</th>\n",
              "      <td>115.330876</td>\n",
              "      <td>0.817178</td>\n",
              "    </tr>\n",
              "    <tr>\n",
              "      <th>min</th>\n",
              "      <td>20.000000</td>\n",
              "      <td>0.000000</td>\n",
              "    </tr>\n",
              "    <tr>\n",
              "      <th>25%</th>\n",
              "      <td>57.000000</td>\n",
              "      <td>0.000000</td>\n",
              "    </tr>\n",
              "    <tr>\n",
              "      <th>50%</th>\n",
              "      <td>213.000000</td>\n",
              "      <td>1.000000</td>\n",
              "    </tr>\n",
              "    <tr>\n",
              "      <th>75%</th>\n",
              "      <td>286.000000</td>\n",
              "      <td>2.000000</td>\n",
              "    </tr>\n",
              "    <tr>\n",
              "      <th>max</th>\n",
              "      <td>358.000000</td>\n",
              "      <td>2.000000</td>\n",
              "    </tr>\n",
              "  </tbody>\n",
              "</table>\n",
              "</div>\n",
              "      <button class=\"colab-df-convert\" onclick=\"convertToInteractive('df-ad190ae0-0e8f-4bdd-b0d3-a5116ce393a9')\"\n",
              "              title=\"Convert this dataframe to an interactive table.\"\n",
              "              style=\"display:none;\">\n",
              "        \n",
              "  <svg xmlns=\"http://www.w3.org/2000/svg\" height=\"24px\"viewBox=\"0 0 24 24\"\n",
              "       width=\"24px\">\n",
              "    <path d=\"M0 0h24v24H0V0z\" fill=\"none\"/>\n",
              "    <path d=\"M18.56 5.44l.94 2.06.94-2.06 2.06-.94-2.06-.94-.94-2.06-.94 2.06-2.06.94zm-11 1L8.5 8.5l.94-2.06 2.06-.94-2.06-.94L8.5 2.5l-.94 2.06-2.06.94zm10 10l.94 2.06.94-2.06 2.06-.94-2.06-.94-.94-2.06-.94 2.06-2.06.94z\"/><path d=\"M17.41 7.96l-1.37-1.37c-.4-.4-.92-.59-1.43-.59-.52 0-1.04.2-1.43.59L10.3 9.45l-7.72 7.72c-.78.78-.78 2.05 0 2.83L4 21.41c.39.39.9.59 1.41.59.51 0 1.02-.2 1.41-.59l7.78-7.78 2.81-2.81c.8-.78.8-2.07 0-2.86zM5.41 20L4 18.59l7.72-7.72 1.47 1.35L5.41 20z\"/>\n",
              "  </svg>\n",
              "      </button>\n",
              "      \n",
              "  <style>\n",
              "    .colab-df-container {\n",
              "      display:flex;\n",
              "      flex-wrap:wrap;\n",
              "      gap: 12px;\n",
              "    }\n",
              "\n",
              "    .colab-df-convert {\n",
              "      background-color: #E8F0FE;\n",
              "      border: none;\n",
              "      border-radius: 50%;\n",
              "      cursor: pointer;\n",
              "      display: none;\n",
              "      fill: #1967D2;\n",
              "      height: 32px;\n",
              "      padding: 0 0 0 0;\n",
              "      width: 32px;\n",
              "    }\n",
              "\n",
              "    .colab-df-convert:hover {\n",
              "      background-color: #E2EBFA;\n",
              "      box-shadow: 0px 1px 2px rgba(60, 64, 67, 0.3), 0px 1px 3px 1px rgba(60, 64, 67, 0.15);\n",
              "      fill: #174EA6;\n",
              "    }\n",
              "\n",
              "    [theme=dark] .colab-df-convert {\n",
              "      background-color: #3B4455;\n",
              "      fill: #D2E3FC;\n",
              "    }\n",
              "\n",
              "    [theme=dark] .colab-df-convert:hover {\n",
              "      background-color: #434B5C;\n",
              "      box-shadow: 0px 1px 3px 1px rgba(0, 0, 0, 0.15);\n",
              "      filter: drop-shadow(0px 1px 2px rgba(0, 0, 0, 0.3));\n",
              "      fill: #FFFFFF;\n",
              "    }\n",
              "  </style>\n",
              "\n",
              "      <script>\n",
              "        const buttonEl =\n",
              "          document.querySelector('#df-ad190ae0-0e8f-4bdd-b0d3-a5116ce393a9 button.colab-df-convert');\n",
              "        buttonEl.style.display =\n",
              "          google.colab.kernel.accessAllowed ? 'block' : 'none';\n",
              "\n",
              "        async function convertToInteractive(key) {\n",
              "          const element = document.querySelector('#df-ad190ae0-0e8f-4bdd-b0d3-a5116ce393a9');\n",
              "          const dataTable =\n",
              "            await google.colab.kernel.invokeFunction('convertToInteractive',\n",
              "                                                     [key], {});\n",
              "          if (!dataTable) return;\n",
              "\n",
              "          const docLinkHtml = 'Like what you see? Visit the ' +\n",
              "            '<a target=\"_blank\" href=https://colab.research.google.com/notebooks/data_table.ipynb>data table notebook</a>'\n",
              "            + ' to learn more about interactive tables.';\n",
              "          element.innerHTML = '';\n",
              "          dataTable['output_type'] = 'display_data';\n",
              "          await google.colab.output.renderOutput(dataTable, element);\n",
              "          const docLink = document.createElement('div');\n",
              "          docLink.innerHTML = docLinkHtml;\n",
              "          element.appendChild(docLink);\n",
              "        }\n",
              "      </script>\n",
              "    </div>\n",
              "  </div>\n",
              "  "
            ]
          },
          "metadata": {},
          "execution_count": 9
        }
      ]
    },
    {
      "cell_type": "code",
      "source": [
        "DATA_LENGTH = df.count()[0]\n",
        "NUMBER_OF_SAMPLES = 100\n",
        "COLUMN_NAME = 'sensor'"
      ],
      "metadata": {
        "id": "EVZ8Hn5CRx_2"
      },
      "execution_count": null,
      "outputs": []
    },
    {
      "cell_type": "code",
      "source": [
        "def emg_extract(data,COLUMN_NAME,sampels):\n",
        "  label=[]\n",
        "  lmax=[]\n",
        "  lmin=[]\n",
        "  lvar=[]\n",
        "  lmean=[]\n",
        "  for i in range(0,data.count()[0],sampels):\n",
        "    l=data[COLUMN_NAME][i:i+100] #iloc[:i+100,:1]#[:i+100]\n",
        "    lmax.append(l.max())\n",
        "    lvar.append(l.var())\n",
        "    lmean.append(l.mean())\n",
        "    lmin.append(l.min())\n",
        "    label.append(data.iloc[i,-1])\n",
        "  return lmax, lmin, lmean, lvar, label"
      ],
      "metadata": {
        "id": "fE4Af84fmv54"
      },
      "execution_count": null,
      "outputs": []
    },
    {
      "cell_type": "code",
      "source": [
        "l=emg_extract(df,COLUMN_NAME,NUMBER_OF_SAMPLES)"
      ],
      "metadata": {
        "id": "HQufcpT5V4Xg"
      },
      "execution_count": null,
      "outputs": []
    },
    {
      "cell_type": "code",
      "source": [
        "emg_data = pd.DataFrame({'Max' : l[0] ,'Min' : l[1] ,'Mean' : l[2] ,'Var' : l[3] ,'label' : l[4]})"
      ],
      "metadata": {
        "id": "JznQTPOWm6PI"
      },
      "execution_count": null,
      "outputs": []
    },
    {
      "cell_type": "code",
      "source": [
        "emg_data"
      ],
      "metadata": {
        "colab": {
          "base_uri": "https://localhost:8080/",
          "height": 238
        },
        "id": "CLP7W1jxnGYh",
        "outputId": "70fe5d7f-21bf-425d-9852-b0ccda07db79"
      },
      "execution_count": null,
      "outputs": [
        {
          "output_type": "execute_result",
          "data": {
            "text/plain": [
              "   Max  Min    Mean          Var  label\n",
              "0  358  286  325.26   448.436768      0\n",
              "1  358  237  294.15  1301.583333      0\n",
              "2  106   20   39.36   473.384242      1\n",
              "3  115   20   41.98  1110.969293      1\n",
              "4  246  143  199.32  1082.320808      2\n",
              "5  262  129  206.21  1410.894848      2"
            ],
            "text/html": [
              "\n",
              "  <div id=\"df-ba313d16-4990-4186-a6b8-5879c3f77d37\">\n",
              "    <div class=\"colab-df-container\">\n",
              "      <div>\n",
              "<style scoped>\n",
              "    .dataframe tbody tr th:only-of-type {\n",
              "        vertical-align: middle;\n",
              "    }\n",
              "\n",
              "    .dataframe tbody tr th {\n",
              "        vertical-align: top;\n",
              "    }\n",
              "\n",
              "    .dataframe thead th {\n",
              "        text-align: right;\n",
              "    }\n",
              "</style>\n",
              "<table border=\"1\" class=\"dataframe\">\n",
              "  <thead>\n",
              "    <tr style=\"text-align: right;\">\n",
              "      <th></th>\n",
              "      <th>Max</th>\n",
              "      <th>Min</th>\n",
              "      <th>Mean</th>\n",
              "      <th>Var</th>\n",
              "      <th>label</th>\n",
              "    </tr>\n",
              "  </thead>\n",
              "  <tbody>\n",
              "    <tr>\n",
              "      <th>0</th>\n",
              "      <td>358</td>\n",
              "      <td>286</td>\n",
              "      <td>325.26</td>\n",
              "      <td>448.436768</td>\n",
              "      <td>0</td>\n",
              "    </tr>\n",
              "    <tr>\n",
              "      <th>1</th>\n",
              "      <td>358</td>\n",
              "      <td>237</td>\n",
              "      <td>294.15</td>\n",
              "      <td>1301.583333</td>\n",
              "      <td>0</td>\n",
              "    </tr>\n",
              "    <tr>\n",
              "      <th>2</th>\n",
              "      <td>106</td>\n",
              "      <td>20</td>\n",
              "      <td>39.36</td>\n",
              "      <td>473.384242</td>\n",
              "      <td>1</td>\n",
              "    </tr>\n",
              "    <tr>\n",
              "      <th>3</th>\n",
              "      <td>115</td>\n",
              "      <td>20</td>\n",
              "      <td>41.98</td>\n",
              "      <td>1110.969293</td>\n",
              "      <td>1</td>\n",
              "    </tr>\n",
              "    <tr>\n",
              "      <th>4</th>\n",
              "      <td>246</td>\n",
              "      <td>143</td>\n",
              "      <td>199.32</td>\n",
              "      <td>1082.320808</td>\n",
              "      <td>2</td>\n",
              "    </tr>\n",
              "    <tr>\n",
              "      <th>5</th>\n",
              "      <td>262</td>\n",
              "      <td>129</td>\n",
              "      <td>206.21</td>\n",
              "      <td>1410.894848</td>\n",
              "      <td>2</td>\n",
              "    </tr>\n",
              "  </tbody>\n",
              "</table>\n",
              "</div>\n",
              "      <button class=\"colab-df-convert\" onclick=\"convertToInteractive('df-ba313d16-4990-4186-a6b8-5879c3f77d37')\"\n",
              "              title=\"Convert this dataframe to an interactive table.\"\n",
              "              style=\"display:none;\">\n",
              "        \n",
              "  <svg xmlns=\"http://www.w3.org/2000/svg\" height=\"24px\"viewBox=\"0 0 24 24\"\n",
              "       width=\"24px\">\n",
              "    <path d=\"M0 0h24v24H0V0z\" fill=\"none\"/>\n",
              "    <path d=\"M18.56 5.44l.94 2.06.94-2.06 2.06-.94-2.06-.94-.94-2.06-.94 2.06-2.06.94zm-11 1L8.5 8.5l.94-2.06 2.06-.94-2.06-.94L8.5 2.5l-.94 2.06-2.06.94zm10 10l.94 2.06.94-2.06 2.06-.94-2.06-.94-.94-2.06-.94 2.06-2.06.94z\"/><path d=\"M17.41 7.96l-1.37-1.37c-.4-.4-.92-.59-1.43-.59-.52 0-1.04.2-1.43.59L10.3 9.45l-7.72 7.72c-.78.78-.78 2.05 0 2.83L4 21.41c.39.39.9.59 1.41.59.51 0 1.02-.2 1.41-.59l7.78-7.78 2.81-2.81c.8-.78.8-2.07 0-2.86zM5.41 20L4 18.59l7.72-7.72 1.47 1.35L5.41 20z\"/>\n",
              "  </svg>\n",
              "      </button>\n",
              "      \n",
              "  <style>\n",
              "    .colab-df-container {\n",
              "      display:flex;\n",
              "      flex-wrap:wrap;\n",
              "      gap: 12px;\n",
              "    }\n",
              "\n",
              "    .colab-df-convert {\n",
              "      background-color: #E8F0FE;\n",
              "      border: none;\n",
              "      border-radius: 50%;\n",
              "      cursor: pointer;\n",
              "      display: none;\n",
              "      fill: #1967D2;\n",
              "      height: 32px;\n",
              "      padding: 0 0 0 0;\n",
              "      width: 32px;\n",
              "    }\n",
              "\n",
              "    .colab-df-convert:hover {\n",
              "      background-color: #E2EBFA;\n",
              "      box-shadow: 0px 1px 2px rgba(60, 64, 67, 0.3), 0px 1px 3px 1px rgba(60, 64, 67, 0.15);\n",
              "      fill: #174EA6;\n",
              "    }\n",
              "\n",
              "    [theme=dark] .colab-df-convert {\n",
              "      background-color: #3B4455;\n",
              "      fill: #D2E3FC;\n",
              "    }\n",
              "\n",
              "    [theme=dark] .colab-df-convert:hover {\n",
              "      background-color: #434B5C;\n",
              "      box-shadow: 0px 1px 3px 1px rgba(0, 0, 0, 0.15);\n",
              "      filter: drop-shadow(0px 1px 2px rgba(0, 0, 0, 0.3));\n",
              "      fill: #FFFFFF;\n",
              "    }\n",
              "  </style>\n",
              "\n",
              "      <script>\n",
              "        const buttonEl =\n",
              "          document.querySelector('#df-ba313d16-4990-4186-a6b8-5879c3f77d37 button.colab-df-convert');\n",
              "        buttonEl.style.display =\n",
              "          google.colab.kernel.accessAllowed ? 'block' : 'none';\n",
              "\n",
              "        async function convertToInteractive(key) {\n",
              "          const element = document.querySelector('#df-ba313d16-4990-4186-a6b8-5879c3f77d37');\n",
              "          const dataTable =\n",
              "            await google.colab.kernel.invokeFunction('convertToInteractive',\n",
              "                                                     [key], {});\n",
              "          if (!dataTable) return;\n",
              "\n",
              "          const docLinkHtml = 'Like what you see? Visit the ' +\n",
              "            '<a target=\"_blank\" href=https://colab.research.google.com/notebooks/data_table.ipynb>data table notebook</a>'\n",
              "            + ' to learn more about interactive tables.';\n",
              "          element.innerHTML = '';\n",
              "          dataTable['output_type'] = 'display_data';\n",
              "          await google.colab.output.renderOutput(dataTable, element);\n",
              "          const docLink = document.createElement('div');\n",
              "          docLink.innerHTML = docLinkHtml;\n",
              "          element.appendChild(docLink);\n",
              "        }\n",
              "      </script>\n",
              "    </div>\n",
              "  </div>\n",
              "  "
            ]
          },
          "metadata": {},
          "execution_count": 14
        }
      ]
    },
    {
      "cell_type": "code",
      "source": [
        "emg_data.to_csv('emgn.csv')"
      ],
      "metadata": {
        "id": "0KUWLJHf2agI"
      },
      "execution_count": null,
      "outputs": []
    },
    {
      "cell_type": "code",
      "source": [
        "fig = plt.figure()\n",
        "plt.plot(df.sensor)\n",
        "#plt.plot(df.sensor[:200],'y+')\n",
        "#plt.plot(df.sensor[:400],'ro')\n",
        "#plt.plot(df.sensor[:600],'gv')"
      ],
      "metadata": {
        "colab": {
          "base_uri": "https://localhost:8080/",
          "height": 282
        },
        "id": "zKoYQtrXsCJG",
        "outputId": "b6c3c4b7-75c8-44d6-fcee-115f5d8ce25c"
      },
      "execution_count": null,
      "outputs": [
        {
          "output_type": "execute_result",
          "data": {
            "text/plain": [
              "[<matplotlib.lines.Line2D at 0x7f70d911f2b0>]"
            ]
          },
          "metadata": {},
          "execution_count": 15
        },
        {
          "output_type": "display_data",
          "data": {
            "text/plain": [
              "<Figure size 432x288 with 1 Axes>"
            ],
            "image/png": "[encoded data removed]"
          },
          "metadata": {
            "needs_background": "light"
          }
        }
      ]
    },
    {
      "cell_type": "code",
      "source": [],
      "metadata": {
        "id": "FgY4rJUmyNs7"
      },
      "execution_count": null,
      "outputs": []
    },
    {
      "cell_type": "code",
      "source": [
        "clf.fit(np.array(emg_data.iloc[:,:-1]),np.array(emg_data.iloc[:,-1]))"
      ],
      "metadata": {
        "colab": {
          "base_uri": "https://localhost:8080/"
        },
        "id": "S5YlVDcSu2iB",
        "outputId": "75646d3f-3353-4dd4-ba76-2c7373190766"
      },
      "execution_count": null,
      "outputs": [
        {
          "output_type": "execute_result",
          "data": {
            "text/plain": [
              "SVC()"
            ]
          },
          "metadata": {},
          "execution_count": 107
        }
      ]
    },
    {
      "cell_type": "code",
      "source": [
        "clf.predict([np.array([349,\t29,\t149,\t15571])])"
      ],
      "metadata": {
        "colab": {
          "base_uri": "https://localhost:8080/"
        },
        "id": "zt6RMPBIyDJE",
        "outputId": "ac18f49a-3082-435b-89fc-1713576afa56"
      },
      "execution_count": null,
      "outputs": [
        {
          "output_type": "execute_result",
          "data": {
            "text/plain": [
              "array([2])"
            ]
          },
          "metadata": {},
          "execution_count": 108
        }
      ]
    },
    {
      "cell_type": "code",
      "source": [
        "test = emg_extract(df,COLUMN_NAME,10)"
      ],
      "metadata": {
        "id": "RsbwsT01yngN"
      },
      "execution_count": null,
      "outputs": []
    },
    {
      "cell_type": "code",
      "source": [
        "test_data = pd.DataFrame({'Max' : test[0] ,'Min' : test[1] ,'Mean' : test[2] ,'Var' : test[3] ,'label' : test[4]})"
      ],
      "metadata": {
        "id": "xaB07hQkzSPG"
      },
      "execution_count": null,
      "outputs": []
    },
    {
      "cell_type": "code",
      "source": [
        "test_data"
      ],
      "metadata": {
        "id": "Pa1yYw34z5uG",
        "colab": {
          "base_uri": "https://localhost:8080/",
          "height": 1000
        },
        "outputId": "764eebad-5f00-4b54-b5eb-976c8ba5c44f"
      },
      "execution_count": null,
      "outputs": [
        {
          "output_type": "execute_result",
          "data": {
            "text/plain": [
              "    Max  Min        Mean           Var  label\n",
              "0   358  286  325.260000    448.436768      0\n",
              "1   358  286  324.509091    412.986155      0\n",
              "2   358  286  323.883333    382.624930      0\n",
              "3   358  286  323.353846    356.354442      0\n",
              "4   358  286  324.164286    363.548356      0\n",
              "5   358  241  320.960000    616.750067      0\n",
              "6   358  241  317.368750    804.473231      0\n",
              "7   358  237  314.082353    966.218030      0\n",
              "8   358  237  311.255556   1113.085164      0\n",
              "9   358  237  310.689474   1097.305180      0\n",
              "10  358  237  309.705000   1113.786910      0\n",
              "11  358   20  295.909524   4885.010914      0\n",
              "12  358   20  284.977273   7248.341947      0\n",
              "13  358   20  274.147826   9540.135257      0\n",
              "14  358   20  264.462500  11327.437918      0\n",
              "15  358   20  254.988000  13039.040016      0\n",
              "16  358   20  247.273077  14030.461821      0\n",
              "17  358   20  239.222222  15208.872367      0\n",
              "18  358   20  231.967857  16098.540182      0\n",
              "19  358   20  225.168966  16851.642632      0\n",
              "20  358   20  219.590000  17193.767793      1\n",
              "21  358   20  213.151613  17884.944577      1\n",
              "22  358   20  207.115625  18457.256181      1\n",
              "23  358   20  201.445455  18928.199143      1\n",
              "24  358   20  196.108824  19312.445350      1\n",
              "25  358   20  191.077143  19622.352198      1\n",
              "26  358   20  186.325000  19868.370404      1\n",
              "27  358   20  183.029730  19756.516729      1\n",
              "28  358   20  180.373684  19509.849438      1\n",
              "29  358   20  177.771795  19294.526195      1\n",
              "30  358   20  175.187500  19089.776786      1\n",
              "31  358   20  175.385366  18625.186093      1\n",
              "32  358   20  176.221429  18214.416246      1\n",
              "33  358   20  176.700000  17828.466900      1\n",
              "34  358   20  176.711364  17457.736545      1\n",
              "35  358   20  177.444444  17109.334323      1\n",
              "36  358   20  178.308696  16783.917571      1\n",
              "37  358   20  178.704255  16445.654353      1\n",
              "38  358   20  179.491667  16157.895546      1\n",
              "39  358   20  179.573469  15852.576391      1\n",
              "40  358   20  180.014000  15572.266337      2\n",
              "41  358   20  180.660784  15287.285493      2\n",
              "42  358   20  181.467308  15027.154999      2\n",
              "43  358   20  181.260377  14774.257217      2\n",
              "44  358   20  182.394444  14580.962863      2\n",
              "45  358   20  182.250909  14323.412340      2\n",
              "46  358   20  183.225000  14119.680948      2\n",
              "47  358   20  183.219298  13894.175022      2\n",
              "48  358   20  183.631034  13681.110607      2\n",
              "49  358   20  183.844068  13476.770211      2\n",
              "50  358   20  184.380000  13301.210952      2\n",
              "51  358   20  184.380000  13301.210952      2\n",
              "52  358   20  184.380000  13301.210952      2\n",
              "53  358   20  184.380000  13301.210952      2\n",
              "54  358   20  184.380000  13301.210952      2\n",
              "55  358   20  184.380000  13301.210952      2\n",
              "56  358   20  184.380000  13301.210952      2\n",
              "57  358   20  184.380000  13301.210952      2\n",
              "58  358   20  184.380000  13301.210952      2\n",
              "59  358   20  184.380000  13301.210952      2"
            ],
            "text/html": [
              "\n",
              "  <div id=\"df-5511fee7-0096-4bf7-bc4d-feb04ce9826b\">\n",
              "    <div class=\"colab-df-container\">\n",
              "      <div>\n",
              "<style scoped>\n",
              "    .dataframe tbody tr th:only-of-type {\n",
              "        vertical-align: middle;\n",
              "    }\n",
              "\n",
              "    .dataframe tbody tr th {\n",
              "        vertical-align: top;\n",
              "    }\n",
              "\n",
              "    .dataframe thead th {\n",
              "        text-align: right;\n",
              "    }\n",
              "</style>\n",
              "<table border=\"1\" class=\"dataframe\">\n",
              "  <thead>\n",
              "    <tr style=\"text-align: right;\">\n",
              "      <th></th>\n",
              "      <th>Max</th>\n",
              "      <th>Min</th>\n",
              "      <th>Mean</th>\n",
              "      <th>Var</th>\n",
              "      <th>label</th>\n",
              "    </tr>\n",
              "  </thead>\n",
              "  <tbody>\n",
              "    <tr>\n",
              "      <th>0</th>\n",
              "      <td>358</td>\n",
              "      <td>286</td>\n",
              "      <td>325.260000</td>\n",
              "      <td>448.436768</td>\n",
              "      <td>0</td>\n",
              "    </tr>\n",
              "    <tr>\n",
              "      <th>1</th>\n",
              "      <td>358</td>\n",
              "      <td>286</td>\n",
              "      <td>324.509091</td>\n",
              "      <td>412.986155</td>\n",
              "      <td>0</td>\n",
              "    </tr>\n",
              "    <tr>\n",
              "      <th>2</th>\n",
              "      <td>358</td>\n",
              "      <td>286</td>\n",
              "      <td>323.883333</td>\n",
              "      <td>382.624930</td>\n",
              "      <td>0</td>\n",
              "    </tr>\n",
              "    <tr>\n",
              "      <th>3</th>\n",
              "      <td>358</td>\n",
              "      <td>286</td>\n",
              "      <td>323.353846</td>\n",
              "      <td>356.354442</td>\n",
              "      <td>0</td>\n",
              "    </tr>\n",
              "    <tr>\n",
              "      <th>4</th>\n",
              "      <td>358</td>\n",
              "      <td>286</td>\n",
              "      <td>324.164286</td>\n",
              "      <td>363.548356</td>\n",
              "      <td>0</td>\n",
              "    </tr>\n",
              "    <tr>\n",
              "      <th>5</th>\n",
              "      <td>358</td>\n",
              "      <td>241</td>\n",
              "      <td>320.960000</td>\n",
              "      <td>616.750067</td>\n",
              "      <td>0</td>\n",
              "    </tr>\n",
              "    <tr>\n",
              "      <th>6</th>\n",
              "      <td>358</td>\n",
              "      <td>241</td>\n",
              "      <td>317.368750</td>\n",
              "      <td>804.473231</td>\n",
              "      <td>0</td>\n",
              "    </tr>\n",
              "    <tr>\n",
              "      <th>7</th>\n",
              "      <td>358</td>\n",
              "      <td>237</td>\n",
              "      <td>314.082353</td>\n",
              "      <td>966.218030</td>\n",
              "      <td>0</td>\n",
              "    </tr>\n",
              "    <tr>\n",
              "      <th>8</th>\n",
              "      <td>358</td>\n",
              "      <td>237</td>\n",
              "      <td>311.255556</td>\n",
              "      <td>1113.085164</td>\n",
              "      <td>0</td>\n",
              "    </tr>\n",
              "    <tr>\n",
              "      <th>9</th>\n",
              "      <td>358</td>\n",
              "      <td>237</td>\n",
              "      <td>310.689474</td>\n",
              "      <td>1097.305180</td>\n",
              "      <td>0</td>\n",
              "    </tr>\n",
              "    <tr>\n",
              "      <th>10</th>\n",
              "      <td>358</td>\n",
              "      <td>237</td>\n",
              "      <td>309.705000</td>\n",
              "      <td>1113.786910</td>\n",
              "      <td>0</td>\n",
              "    </tr>\n",
              "    <tr>\n",
              "      <th>11</th>\n",
              "      <td>358</td>\n",
              "      <td>20</td>\n",
              "      <td>295.909524</td>\n",
              "      <td>4885.010914</td>\n",
              "      <td>0</td>\n",
              "    </tr>\n",
              "    <tr>\n",
              "      <th>12</th>\n",
              "      <td>358</td>\n",
              "      <td>20</td>\n",
              "      <td>284.977273</td>\n",
              "      <td>7248.341947</td>\n",
              "      <td>0</td>\n",
              "    </tr>\n",
              "    <tr>\n",
              "      <th>13</th>\n",
              "      <td>358</td>\n",
              "      <td>20</td>\n",
              "      <td>274.147826</td>\n",
              "      <td>9540.135257</td>\n",
              "      <td>0</td>\n",
              "    </tr>\n",
              "    <tr>\n",
              "      <th>14</th>\n",
              "      <td>358</td>\n",
              "      <td>20</td>\n",
              "      <td>264.462500</td>\n",
              "      <td>11327.437918</td>\n",
              "      <td>0</td>\n",
              "    </tr>\n",
              "    <tr>\n",
              "      <th>15</th>\n",
              "      <td>358</td>\n",
              "      <td>20</td>\n",
              "      <td>254.988000</td>\n",
              "      <td>13039.040016</td>\n",
              "      <td>0</td>\n",
              "    </tr>\n",
              "    <tr>\n",
              "      <th>16</th>\n",
              "      <td>358</td>\n",
              "      <td>20</td>\n",
              "      <td>247.273077</td>\n",
              "      <td>14030.461821</td>\n",
              "      <td>0</td>\n",
              "    </tr>\n",
              "    <tr>\n",
              "      <th>17</th>\n",
              "      <td>358</td>\n",
              "      <td>20</td>\n",
              "      <td>239.222222</td>\n",
              "      <td>15208.872367</td>\n",
              "      <td>0</td>\n",
              "    </tr>\n",
              "    <tr>\n",
              "      <th>18</th>\n",
              "      <td>358</td>\n",
              "      <td>20</td>\n",
              "      <td>231.967857</td>\n",
              "      <td>16098.540182</td>\n",
              "      <td>0</td>\n",
              "    </tr>\n",
              "    <tr>\n",
              "      <th>19</th>\n",
              "      <td>358</td>\n",
              "      <td>20</td>\n",
              "      <td>225.168966</td>\n",
              "      <td>16851.642632</td>\n",
              "      <td>0</td>\n",
              "    </tr>\n",
              "    <tr>\n",
              "      <th>20</th>\n",
              "      <td>358</td>\n",
              "      <td>20</td>\n",
              "      <td>219.590000</td>\n",
              "      <td>17193.767793</td>\n",
              "      <td>1</td>\n",
              "    </tr>\n",
              "    <tr>\n",
              "      <th>21</th>\n",
              "      <td>358</td>\n",
              "      <td>20</td>\n",
              "      <td>213.151613</td>\n",
              "      <td>17884.944577</td>\n",
              "      <td>1</td>\n",
              "    </tr>\n",
              "    <tr>\n",
              "      <th>22</th>\n",
              "      <td>358</td>\n",
              "      <td>20</td>\n",
              "      <td>207.115625</td>\n",
              "      <td>18457.256181</td>\n",
              "      <td>1</td>\n",
              "    </tr>\n",
              "    <tr>\n",
              "      <th>23</th>\n",
              "      <td>358</td>\n",
              "      <td>20</td>\n",
              "      <td>201.445455</td>\n",
              "      <td>18928.199143</td>\n",
              "      <td>1</td>\n",
              "    </tr>\n",
              "    <tr>\n",
              "      <th>24</th>\n",
              "      <td>358</td>\n",
              "      <td>20</td>\n",
              "      <td>196.108824</td>\n",
              "      <td>19312.445350</td>\n",
              "      <td>1</td>\n",
              "    </tr>\n",
              "    <tr>\n",
              "      <th>25</th>\n",
              "      <td>358</td>\n",
              "      <td>20</td>\n",
              "      <td>191.077143</td>\n",
              "      <td>19622.352198</td>\n",
              "      <td>1</td>\n",
              "    </tr>\n",
              "    <tr>\n",
              "      <th>26</th>\n",
              "      <td>358</td>\n",
              "      <td>20</td>\n",
              "      <td>186.325000</td>\n",
              "      <td>19868.370404</td>\n",
              "      <td>1</td>\n",
              "    </tr>\n",
              "    <tr>\n",
              "      <th>27</th>\n",
              "      <td>358</td>\n",
              "      <td>20</td>\n",
              "      <td>183.029730</td>\n",
              "      <td>19756.516729</td>\n",
              "      <td>1</td>\n",
              "    </tr>\n",
              "    <tr>\n",
              "      <th>28</th>\n",
              "      <td>358</td>\n",
              "      <td>20</td>\n",
              "      <td>180.373684</td>\n",
              "      <td>19509.849438</td>\n",
              "      <td>1</td>\n",
              "    </tr>\n",
              "    <tr>\n",
              "      <th>29</th>\n",
              "      <td>358</td>\n",
              "      <td>20</td>\n",
              "      <td>177.771795</td>\n",
              "      <td>19294.526195</td>\n",
              "      <td>1</td>\n",
              "    </tr>\n",
              "    <tr>\n",
              "      <th>30</th>\n",
              "      <td>358</td>\n",
              "      <td>20</td>\n",
              "      <td>175.187500</td>\n",
              "      <td>19089.776786</td>\n",
              "      <td>1</td>\n",
              "    </tr>\n",
              "    <tr>\n",
              "      <th>31</th>\n",
              "      <td>358</td>\n",
              "      <td>20</td>\n",
              "      <td>175.385366</td>\n",
              "      <td>18625.186093</td>\n",
              "      <td>1</td>\n",
              "    </tr>\n",
              "    <tr>\n",
              "      <th>32</th>\n",
              "      <td>358</td>\n",
              "      <td>20</td>\n",
              "      <td>176.221429</td>\n",
              "      <td>18214.416246</td>\n",
              "      <td>1</td>\n",
              "    </tr>\n",
              "    <tr>\n",
              "      <th>33</th>\n",
              "      <td>358</td>\n",
              "      <td>20</td>\n",
              "      <td>176.700000</td>\n",
              "      <td>17828.466900</td>\n",
              "      <td>1</td>\n",
              "    </tr>\n",
              "    <tr>\n",
              "      <th>34</th>\n",
              "      <td>358</td>\n",
              "      <td>20</td>\n",
              "      <td>176.711364</td>\n",
              "      <td>17457.736545</td>\n",
              "      <td>1</td>\n",
              "    </tr>\n",
              "    <tr>\n",
              "      <th>35</th>\n",
              "      <td>358</td>\n",
              "      <td>20</td>\n",
              "      <td>177.444444</td>\n",
              "      <td>17109.334323</td>\n",
              "      <td>1</td>\n",
              "    </tr>\n",
              "    <tr>\n",
              "      <th>36</th>\n",
              "      <td>358</td>\n",
              "      <td>20</td>\n",
              "      <td>178.308696</td>\n",
              "      <td>16783.917571</td>\n",
              "      <td>1</td>\n",
              "    </tr>\n",
              "    <tr>\n",
              "      <th>37</th>\n",
              "      <td>358</td>\n",
              "      <td>20</td>\n",
              "      <td>178.704255</td>\n",
              "      <td>16445.654353</td>\n",
              "      <td>1</td>\n",
              "    </tr>\n",
              "    <tr>\n",
              "      <th>38</th>\n",
              "      <td>358</td>\n",
              "      <td>20</td>\n",
              "      <td>179.491667</td>\n",
              "      <td>16157.895546</td>\n",
              "      <td>1</td>\n",
              "    </tr>\n",
              "    <tr>\n",
              "      <th>39</th>\n",
              "      <td>358</td>\n",
              "      <td>20</td>\n",
              "      <td>179.573469</td>\n",
              "      <td>15852.576391</td>\n",
              "      <td>1</td>\n",
              "    </tr>\n",
              "    <tr>\n",
              "      <th>40</th>\n",
              "      <td>358</td>\n",
              "      <td>20</td>\n",
              "      <td>180.014000</td>\n",
              "      <td>15572.266337</td>\n",
              "      <td>2</td>\n",
              "    </tr>\n",
              "    <tr>\n",
              "      <th>41</th>\n",
              "      <td>358</td>\n",
              "      <td>20</td>\n",
              "      <td>180.660784</td>\n",
              "      <td>15287.285493</td>\n",
              "      <td>2</td>\n",
              "    </tr>\n",
              "    <tr>\n",
              "      <th>42</th>\n",
              "      <td>358</td>\n",
              "      <td>20</td>\n",
              "      <td>181.467308</td>\n",
              "      <td>15027.154999</td>\n",
              "      <td>2</td>\n",
              "    </tr>\n",
              "    <tr>\n",
              "      <th>43</th>\n",
              "      <td>358</td>\n",
              "      <td>20</td>\n",
              "      <td>181.260377</td>\n",
              "      <td>14774.257217</td>\n",
              "      <td>2</td>\n",
              "    </tr>\n",
              "    <tr>\n",
              "      <th>44</th>\n",
              "      <td>358</td>\n",
              "      <td>20</td>\n",
              "      <td>182.394444</td>\n",
              "      <td>14580.962863</td>\n",
              "      <td>2</td>\n",
              "    </tr>\n",
              "    <tr>\n",
              "      <th>45</th>\n",
              "      <td>358</td>\n",
              "      <td>20</td>\n",
              "      <td>182.250909</td>\n",
              "      <td>14323.412340</td>\n",
              "      <td>2</td>\n",
              "    </tr>\n",
              "    <tr>\n",
              "      <th>46</th>\n",
              "      <td>358</td>\n",
              "      <td>20</td>\n",
              "      <td>183.225000</td>\n",
              "      <td>14119.680948</td>\n",
              "      <td>2</td>\n",
              "    </tr>\n",
              "    <tr>\n",
              "      <th>47</th>\n",
              "      <td>358</td>\n",
              "      <td>20</td>\n",
              "      <td>183.219298</td>\n",
              "      <td>13894.175022</td>\n",
              "      <td>2</td>\n",
              "    </tr>\n",
              "    <tr>\n",
              "      <th>48</th>\n",
              "      <td>358</td>\n",
              "      <td>20</td>\n",
              "      <td>183.631034</td>\n",
              "      <td>13681.110607</td>\n",
              "      <td>2</td>\n",
              "    </tr>\n",
              "    <tr>\n",
              "      <th>49</th>\n",
              "      <td>358</td>\n",
              "      <td>20</td>\n",
              "      <td>183.844068</td>\n",
              "      <td>13476.770211</td>\n",
              "      <td>2</td>\n",
              "    </tr>\n",
              "    <tr>\n",
              "      <th>50</th>\n",
              "      <td>358</td>\n",
              "      <td>20</td>\n",
              "      <td>184.380000</td>\n",
              "      <td>13301.210952</td>\n",
              "      <td>2</td>\n",
              "    </tr>\n",
              "    <tr>\n",
              "      <th>51</th>\n",
              "      <td>358</td>\n",
              "      <td>20</td>\n",
              "      <td>184.380000</td>\n",
              "      <td>13301.210952</td>\n",
              "      <td>2</td>\n",
              "    </tr>\n",
              "    <tr>\n",
              "      <th>52</th>\n",
              "      <td>358</td>\n",
              "      <td>20</td>\n",
              "      <td>184.380000</td>\n",
              "      <td>13301.210952</td>\n",
              "      <td>2</td>\n",
              "    </tr>\n",
              "    <tr>\n",
              "      <th>53</th>\n",
              "      <td>358</td>\n",
              "      <td>20</td>\n",
              "      <td>184.380000</td>\n",
              "      <td>13301.210952</td>\n",
              "      <td>2</td>\n",
              "    </tr>\n",
              "    <tr>\n",
              "      <th>54</th>\n",
              "      <td>358</td>\n",
              "      <td>20</td>\n",
              "      <td>184.380000</td>\n",
              "      <td>13301.210952</td>\n",
              "      <td>2</td>\n",
              "    </tr>\n",
              "    <tr>\n",
              "      <th>55</th>\n",
              "      <td>358</td>\n",
              "      <td>20</td>\n",
              "      <td>184.380000</td>\n",
              "      <td>13301.210952</td>\n",
              "      <td>2</td>\n",
              "    </tr>\n",
              "    <tr>\n",
              "      <th>56</th>\n",
              "      <td>358</td>\n",
              "      <td>20</td>\n",
              "      <td>184.380000</td>\n",
              "      <td>13301.210952</td>\n",
              "      <td>2</td>\n",
              "    </tr>\n",
              "    <tr>\n",
              "      <th>57</th>\n",
              "      <td>358</td>\n",
              "      <td>20</td>\n",
              "      <td>184.380000</td>\n",
              "      <td>13301.210952</td>\n",
              "      <td>2</td>\n",
              "    </tr>\n",
              "    <tr>\n",
              "      <th>58</th>\n",
              "      <td>358</td>\n",
              "      <td>20</td>\n",
              "      <td>184.380000</td>\n",
              "      <td>13301.210952</td>\n",
              "      <td>2</td>\n",
              "    </tr>\n",
              "    <tr>\n",
              "      <th>59</th>\n",
              "      <td>358</td>\n",
              "      <td>20</td>\n",
              "      <td>184.380000</td>\n",
              "      <td>13301.210952</td>\n",
              "      <td>2</td>\n",
              "    </tr>\n",
              "  </tbody>\n",
              "</table>\n",
              "</div>\n",
              "      <button class=\"colab-df-convert\" onclick=\"convertToInteractive('df-5511fee7-0096-4bf7-bc4d-feb04ce9826b')\"\n",
              "              title=\"Convert this dataframe to an interactive table.\"\n",
              "              style=\"display:none;\">\n",
              "        \n",
              "  <svg xmlns=\"http://www.w3.org/2000/svg\" height=\"24px\"viewBox=\"0 0 24 24\"\n",
              "       width=\"24px\">\n",
              "    <path d=\"M0 0h24v24H0V0z\" fill=\"none\"/>\n",
              "    <path d=\"M18.56 5.44l.94 2.06.94-2.06 2.06-.94-2.06-.94-.94-2.06-.94 2.06-2.06.94zm-11 1L8.5 8.5l.94-2.06 2.06-.94-2.06-.94L8.5 2.5l-.94 2.06-2.06.94zm10 10l.94 2.06.94-2.06 2.06-.94-2.06-.94-.94-2.06-.94 2.06-2.06.94z\"/><path d=\"M17.41 7.96l-1.37-1.37c-.4-.4-.92-.59-1.43-.59-.52 0-1.04.2-1.43.59L10.3 9.45l-7.72 7.72c-.78.78-.78 2.05 0 2.83L4 21.41c.39.39.9.59 1.41.59.51 0 1.02-.2 1.41-.59l7.78-7.78 2.81-2.81c.8-.78.8-2.07 0-2.86zM5.41 20L4 18.59l7.72-7.72 1.47 1.35L5.41 20z\"/>\n",
              "  </svg>\n",
              "      </button>\n",
              "      \n",
              "  <style>\n",
              "    .colab-df-container {\n",
              "      display:flex;\n",
              "      flex-wrap:wrap;\n",
              "      gap: 12px;\n",
              "    }\n",
              "\n",
              "    .colab-df-convert {\n",
              "      background-color: #E8F0FE;\n",
              "      border: none;\n",
              "      border-radius: 50%;\n",
              "      cursor: pointer;\n",
              "      display: none;\n",
              "      fill: #1967D2;\n",
              "      height: 32px;\n",
              "      padding: 0 0 0 0;\n",
              "      width: 32px;\n",
              "    }\n",
              "\n",
              "    .colab-df-convert:hover {\n",
              "      background-color: #E2EBFA;\n",
              "      box-shadow: 0px 1px 2px rgba(60, 64, 67, 0.3), 0px 1px 3px 1px rgba(60, 64, 67, 0.15);\n",
              "      fill: #174EA6;\n",
              "    }\n",
              "\n",
              "    [theme=dark] .colab-df-convert {\n",
              "      background-color: #3B4455;\n",
              "      fill: #D2E3FC;\n",
              "    }\n",
              "\n",
              "    [theme=dark] .colab-df-convert:hover {\n",
              "      background-color: #434B5C;\n",
              "      box-shadow: 0px 1px 3px 1px rgba(0, 0, 0, 0.15);\n",
              "      filter: drop-shadow(0px 1px 2px rgba(0, 0, 0, 0.3));\n",
              "      fill: #FFFFFF;\n",
              "    }\n",
              "  </style>\n",
              "\n",
              "      <script>\n",
              "        const buttonEl =\n",
              "          document.querySelector('#df-5511fee7-0096-4bf7-bc4d-feb04ce9826b button.colab-df-convert');\n",
              "        buttonEl.style.display =\n",
              "          google.colab.kernel.accessAllowed ? 'block' : 'none';\n",
              "\n",
              "        async function convertToInteractive(key) {\n",
              "          const element = document.querySelector('#df-5511fee7-0096-4bf7-bc4d-feb04ce9826b');\n",
              "          const dataTable =\n",
              "            await google.colab.kernel.invokeFunction('convertToInteractive',\n",
              "                                                     [key], {});\n",
              "          if (!dataTable) return;\n",
              "\n",
              "          const docLinkHtml = 'Like what you see? Visit the ' +\n",
              "            '<a target=\"_blank\" href=https://colab.research.google.com/notebooks/data_table.ipynb>data table notebook</a>'\n",
              "            + ' to learn more about interactive tables.';\n",
              "          element.innerHTML = '';\n",
              "          dataTable['output_type'] = 'display_data';\n",
              "          await google.colab.output.renderOutput(dataTable, element);\n",
              "          const docLink = document.createElement('div');\n",
              "          docLink.innerHTML = docLinkHtml;\n",
              "          element.appendChild(docLink);\n",
              "        }\n",
              "      </script>\n",
              "    </div>\n",
              "  </div>\n",
              "  "
            ]
          },
          "metadata": {},
          "execution_count": 112
        }
      ]
    },
    {
      "cell_type": "code",
      "source": [
        "clf.fit(test_data.iloc[:,:-1],test_data.iloc[:,-1])"
      ],
      "metadata": {
        "id": "zYRD3rEH0dau",
        "colab": {
          "base_uri": "https://localhost:8080/"
        },
        "outputId": "cad00299-a8d8-4318-f09a-1568d278c4ac"
      },
      "execution_count": null,
      "outputs": [
        {
          "output_type": "execute_result",
          "data": {
            "text/plain": [
              "SVC()"
            ]
          },
          "metadata": {},
          "execution_count": 118
        }
      ]
    },
    {
      "cell_type": "code",
      "source": [
        "clf.predict(emg_data.iloc[:,:-1])"
      ],
      "metadata": {
        "colab": {
          "base_uri": "https://localhost:8080/"
        },
        "id": "kZH-wXmBcC5J",
        "outputId": "0fcaaa44-40b2-4d05-9ded-3bb805be6910"
      },
      "execution_count": null,
      "outputs": [
        {
          "output_type": "execute_result",
          "data": {
            "text/plain": [
              "array([0, 0, 1, 1, 2, 2])"
            ]
          },
          "metadata": {},
          "execution_count": 120
        }
      ]
    },
    {
      "cell_type": "code",
      "source": [
        "from keras.models import Sequential\n",
        "from keras.layers import Conv2D,MaxPooling2D,Flatten,Dense,Conv1D, MaxPooling1D,Dropout,Reshape, GlobalAveragePooling1D\n",
        "from keras.utils.vis_utils import plot_model\n",
        "from keras.callbacks import ModelCheckpoint\n",
        "from keras.utils import np_utils"
      ],
      "metadata": {
        "id": "WlINyTCRcRk4"
      },
      "execution_count": null,
      "outputs": []
    },
    {
      "cell_type": "code",
      "source": [
        "model = Sequential()\n",
        "model.add(Reshape((4,1),input_shape=(4,)))\n",
        "model.add(Conv1D(50, 1, activation='relu', input_shape=(4,1)))\n",
        "model.add(Conv1D(50, 1, activation='relu'))\n",
        "model.add(MaxPooling1D(1))\n",
        "model.add(Dense(50,activation='relu'))\n",
        "model.add(Dense(50,activation='relu'))\n",
        "model.add(GlobalAveragePooling1D())\n",
        "model.add(Dense(3, activation='sigmoid'))\n",
        "print(model.summary())"
      ],
      "metadata": {
        "colab": {
          "base_uri": "https://localhost:8080/"
        },
        "id": "AH7l7usPcr1_",
        "outputId": "6d32f9c6-51e0-4e06-8111-ea98f7889176"
      },
      "execution_count": null,
      "outputs": [
        {
          "output_type": "stream",
          "name": "stdout",
          "text": [
            "Model: \"sequential_5\"\n",
            "_________________________________________________________________\n",
            " Layer (type)                Output Shape              Param #   \n",
            "=================================================================\n",
            " reshape_2 (Reshape)         (None, 4, 1)              0         \n",
            "                                                                 \n",
            " conv1d_2 (Conv1D)           (None, 4, 50)             100       \n",
            "                                                                 \n",
            " conv1d_3 (Conv1D)           (None, 4, 50)             2550      \n",
            "                                                                 \n",
            " max_pooling1d_1 (MaxPooling  (None, 4, 50)            0         \n",
            " 1D)                                                             \n",
            "                                                                 \n",
            " dense_3 (Dense)             (None, 4, 50)             2550      \n",
            "                                                                 \n",
            " dense_4 (Dense)             (None, 4, 50)             2550      \n",
            "                                                                 \n",
            " global_average_pooling1d_1   (None, 50)               0         \n",
            " (GlobalAveragePooling1D)                                        \n",
            "                                                                 \n",
            " dense_5 (Dense)             (None, 3)                 153       \n",
            "                                                                 \n",
            "=================================================================\n",
            "Total params: 7,903\n",
            "Trainable params: 7,903\n",
            "Non-trainable params: 0\n",
            "_________________________________________________________________\n",
            "None\n"
          ]
        }
      ]
    },
    {
      "cell_type": "code",
      "source": [
        "from keras.utils import to_categorical"
      ],
      "metadata": {
        "id": "QgsHWeQrqnj4"
      },
      "execution_count": null,
      "outputs": []
    },
    {
      "cell_type": "code",
      "source": [
        "x , x_test = test_data.iloc[:,:-1] , emg_data.iloc[:,:-1]"
      ],
      "metadata": {
        "id": "0lyK-j-5rS5r"
      },
      "execution_count": null,
      "outputs": []
    },
    {
      "cell_type": "code",
      "source": [
        "y , y_test = to_categorical(test_data.iloc[:,-1]) , to_categorical(emg_data.iloc[:,-1])"
      ],
      "metadata": {
        "id": "9PE8g2mcrDij"
      },
      "execution_count": null,
      "outputs": []
    },
    {
      "cell_type": "code",
      "source": [
        "from sklearn.metrics import roc_curve"
      ],
      "metadata": {
        "id": "Uex7DIUVr85D"
      },
      "execution_count": null,
      "outputs": []
    },
    {
      "cell_type": "code",
      "source": [
        "from sklearn.metrics import ConfusionMatrixDisplay\n",
        "from sklearn.metrics import confusion_matrix"
      ],
      "metadata": {
        "id": "5XVdYDv2tqTM"
      },
      "execution_count": null,
      "outputs": []
    },
    {
      "cell_type": "code",
      "source": [
        "model.compile(\n",
        "    loss='categorical_crossentropy',\n",
        "                optimizer='adam', metrics=['acc'])\n",
        "\n",
        "# Hyper-parameters\n",
        "BATCH_SIZE = 10\n",
        "EPOCHS = 600\n",
        "\n",
        "# Enable validation to use ModelCheckpoint and EarlyStopping callbacks.\n",
        "history = model.fit(x,\n",
        "                      y,\n",
        "                      batch_size=BATCH_SIZE,\n",
        "                      epochs=EPOCHS,\n",
        "              \n",
        "                      validation_split=0.2,\n",
        "                      verbose=0\n",
        "                      )\n"
      ],
      "metadata": {
        "colab": {
          "base_uri": "https://localhost:8080/"
        },
        "id": "PzBgL-FsoCVG",
        "outputId": "ab653a84-0c1b-4565-a4f9-f194a1519e1a"
      },
      "execution_count": null,
      "outputs": [
        {
          "output_type": "stream",
          "name": "stdout",
          "text": [
            "<keras.callbacks.History object at 0x7f0102478400>\n"
          ]
        }
      ]
    },
    {
      "cell_type": "code",
      "source": [
        "accuracy_results = model.evaluate(x_test, y_test)\n",
        "print(\"Accuracy :\",accuracy_results)"
      ],
      "metadata": {
        "colab": {
          "base_uri": "https://localhost:8080/"
        },
        "id": "lXTaBuSWwx4N",
        "outputId": "17fe29eb-4390-4782-c51e-c953bffa2215"
      },
      "execution_count": null,
      "outputs": [
        {
          "output_type": "stream",
          "name": "stdout",
          "text": [
            "1/1 [==============================] - 0s 39ms/step - loss: 0.1273 - acc: 1.0000\n",
            "Accuracy : [0.1273307204246521, 1.0]\n"
          ]
        }
      ]
    },
    {
      "cell_type": "code",
      "source": [
        "# %%\n",
        "\n",
        "print(\"\\n--- Learning curve of model training ---\\n\")\n",
        "\n",
        "# summarize history for accuracy and loss\n",
        "plt.figure(figsize=(6, 4))\n",
        "plt.plot(history.history['acc'], \"g--\", label=\"Accuracy of training data\")\n",
        "plt.plot(history.history['val_acc'], \"g\", label=\"Accuracy of validation data\")\n",
        "plt.title('Model Accuracy')\n",
        "plt.ylabel('Accuracy')\n",
        "plt.xlabel('Training Epoch')\n",
        "plt.legend()\n",
        "plt.figure()\n",
        "plt.plot(history.history['loss'], \"r--\", label=\"Loss of training data\")\n",
        "plt.plot(history.history['val_loss'], \"r\", label=\"Loss of validation data\")\n",
        "plt.title('Model Loss')\n",
        "plt.ylabel('Loss')\n",
        "plt.xlabel('Training Epoch')\n",
        "#plt.ylim(0)\n",
        "plt.legend()\n",
        "plt.show()\n"
      ],
      "metadata": {
        "colab": {
          "base_uri": "https://localhost:8080/",
          "height": 799
        },
        "id": "0QDfSM1YwvSK",
        "outputId": "fa845437-ef07-44b5-c3c6-a79734279395"
      },
      "execution_count": null,
      "outputs": [
        {
          "output_type": "stream",
          "name": "stdout",
          "text": [
            "\n",
            "--- Learning curve of model training ---\n",
            "\n"
          ]
        },
        {
          "output_type": "display_data",
          "data": {
            "text/plain": [
              "<Figure size 432x288 with 1 Axes>"
            ],
            "image/png": "[encoded data removed]"
          },
          "metadata": {
            "needs_background": "light"
          }
        },
        {
          "output_type": "display_data",
          "data": {
            "text/plain": [
              "<Figure size 432x288 with 1 Axes>"
            ],
            "image/png": "[encoded data removed]"
          },
          "metadata": {
            "needs_background": "light"
          }
        },
        {
          "output_type": "stream",
          "name": "stdout",
          "text": [
            "\n",
            "--- Confusion matrix for test data ---\n",
            "\n",
            "1/1 [==============================] - 0s 229ms/step\n",
            "[[2 0 0]\n",
            " [0 2 0]\n",
            " [0 0 2]]\n",
            "\n",
            "--- Classification report for test data ---\n",
            "\n"
          ]
        }
      ]
    },
    {
      "cell_type": "code",
      "source": [
        "\n",
        "#%%\n",
        "\n",
        "\n",
        "# y_test = np_utils.to_categorical(y_test, num_classes)\n",
        "\n",
        "# %%\n",
        "\n",
        "print(\"\\n--- Confusion matrix for test data ---\\n\")\n",
        "\n",
        "y_pred_test = model.predict(x_test)\n",
        "# # Take the class with the highest probability from the test predictions\n",
        "max_y_pred_test = np.argmax(y_pred_test, axis=1)\n",
        "max_y_test = np.argmax(y_test, axis=1)\n",
        "\n",
        "print(confusion_matrix(max_y_test, max_y_pred_test))\n",
        "\n",
        "# # %%\n",
        "\n",
        "print(\"\\n--- Classification report for test data ---\\n\")\n",
        "\n",
        "# print(classification_report(max_y_test, max_y_pred_test))\n",
        "\n",
        "#x_test, y_test = create_segments_and_labels(df_test,\n",
        "#                                            TIME_PERIODS,\n",
        "#                                            STEP_DISTANCE,\n",
        "#                                           'LABEL')\n",
        "#x_test = x_test.reshape(x_test.shape[0], input_shape)\n",
        "#y_pred = model.predict(x_test)\n",
        "# if accuracy_results[1]<0.5:\n",
        "#   y_pred = 1-y_pred\n",
        "#fpr_keras, tpr_keras, thresholds_keras = roc_curve(y_test,y_pred)\n",
        "# plt.figure(1)\n",
        "# plt.plot(fpr_keras, tpr_keras)\n",
        "# plt.xlabel('False positive rate')\n",
        "# plt.ylabel('True positive rate')\n",
        "# plt.title('ROC curve')\n",
        "# plt.legend(loc='best')\n",
        "# plt.show()"
      ],
      "metadata": {
        "id": "Qff5ZZx-x1Yx"
      },
      "execution_count": null,
      "outputs": []
    },
    {
      "cell_type": "code",
      "source": [
        "y_pred = model.predict(x_test)"
      ],
      "metadata": {
        "colab": {
          "base_uri": "https://localhost:8080/"
        },
        "id": "QYCI11pbyxpE",
        "outputId": "e0f18bd8-94ce-4c90-e04c-8cfa81474811"
      },
      "execution_count": null,
      "outputs": [
        {
          "output_type": "stream",
          "name": "stdout",
          "text": [
            "1/1 [==============================] - 0s 44ms/step\n"
          ]
        }
      ]
    },
    {
      "cell_type": "code",
      "source": [
        "print(y_pred)"
      ],
      "metadata": {
        "colab": {
          "base_uri": "https://localhost:8080/"
        },
        "id": "uQx_7TSFrKE0",
        "outputId": "51fe9247-e991-4ada-9b39-250720076582"
      },
      "execution_count": null,
      "outputs": [
        {
          "output_type": "stream",
          "name": "stdout",
          "text": [
            "[[0.997534   0.0277612  0.18489444]\n",
            " [0.9964871  0.1162762  0.1519986 ]\n",
            " [0.9999984  0.99999976 0.9999881 ]\n",
            " [0.9997244  1.         0.99999434]\n",
            " [0.9999708  0.9999968  0.99999833]\n",
            " [0.9999942  0.99913186 0.99999917]]\n"
          ]
        }
      ]
    },
    {
      "cell_type": "code",
      "source": [
        "for a in range(6):\n",
        "  print(np.argmax(y_pred[a]))"
      ],
      "metadata": {
        "colab": {
          "base_uri": "https://localhost:8080/"
        },
        "id": "kKSkQ0RUsOM4",
        "outputId": "de232efc-755d-45aa-b9ef-de61d7503178"
      },
      "execution_count": null,
      "outputs": [
        {
          "output_type": "stream",
          "name": "stdout",
          "text": [
            "0\n",
            "0\n",
            "1\n",
            "1\n",
            "2\n",
            "2\n"
          ]
        }
      ]
    },
    {
      "cell_type": "code",
      "source": [
        "|"
      ],
      "metadata": {
        "id": "LUBqg760u7PX"
      },
      "execution_count": null,
      "outputs": []
    }
  ]
}